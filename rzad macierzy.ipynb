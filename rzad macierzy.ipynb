{
 "cells": [
  {
   "cell_type": "code",
   "execution_count": 13,
   "id": "62e507d7",
   "metadata": {},
   "outputs": [
    {
     "name": "stdout",
     "output_type": "stream",
     "text": [
      "5\n",
      "2\n"
     ]
    }
   ],
   "source": [
    "def rzad_macierzy(A):\n",
    "    rzad = len(A[0])\n",
    "    for row in range(rzad):\n",
    "        if A[row][row] != 0:\n",
    "            for col in range(len(A)):\n",
    "                if col != row:\n",
    "                    mnoznik = A[col][row]/A[row][row]\n",
    "                    for i in range(rzad):\n",
    "                        A[col][i] -= (mnoznik*A[row][i])\n",
    "        else:\n",
    "            redukowanie = True\n",
    "            for i in range(row+1, len(A)):\n",
    "                if A[i][row] != 0:\n",
    "                    A = swap(A, row, i, rzad)\n",
    "                    redukowanie = False\n",
    "                break\n",
    "            \n",
    "            if redukowanie:\n",
    "                rzad -= 1\n",
    "                for i in range(0, len(A)):\n",
    "                    A[i][row] = A[i][rzad]\n",
    "            row -= 1\n",
    "    return rzad\n",
    "            \n",
    "def swap(A, rzad1, rzad2, col):\n",
    "    for i in range(col):\n",
    "        temp = A[rzad1][i]\n",
    "        A[rzad1][i] = A[rzad2][i]\n",
    "        A[rzad2][i] = temp\n",
    "        \n",
    "        \n",
    "A= [[1,1,0,1,1],[1,0,1,1,1],[0,1,1,1,1],[1,1,1,0,1],[1,1,1,1,0]] #5\n",
    "B= [[2,1,-4],[3,5,-7],[4,-5,-6]] #2\n",
    "\n",
    "print(rzad_macierzy(A))\n",
    "print(rzad_macierzy(B))"
   ]
  },
  {
   "cell_type": "code",
   "execution_count": null,
   "id": "59f227a2",
   "metadata": {},
   "outputs": [],
   "source": []
  }
 ],
 "metadata": {
  "kernelspec": {
   "display_name": "Python 3 (ipykernel)",
   "language": "python",
   "name": "python3"
  },
  "language_info": {
   "codemirror_mode": {
    "name": "ipython",
    "version": 3
   },
   "file_extension": ".py",
   "mimetype": "text/x-python",
   "name": "python",
   "nbconvert_exporter": "python",
   "pygments_lexer": "ipython3",
   "version": "3.9.12"
  }
 },
 "nbformat": 4,
 "nbformat_minor": 5
}
